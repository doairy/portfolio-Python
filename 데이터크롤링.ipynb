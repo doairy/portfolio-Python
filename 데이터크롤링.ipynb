{
 "cells": [
  {
   "cell_type": "code",
   "execution_count": 2,
   "id": "7d2be16d",
   "metadata": {},
   "outputs": [],
   "source": [
    "from selenium import webdriver\n",
    "from selenium.webdriver.chrome.service import Service\n",
    "from selenium.webdriver.chrome.options import Options\n",
    "from webdriver_manager.chrome import ChromeDriverManager\n",
    "\n",
    "from selenium.webdriver.common.by import By\n",
    "from selenium.webdriver.common.keys import Keys\n",
    "import time\n",
    "import requests\n",
    "from bs4 import BeautifulSoup as bs"
   ]
  },
  {
   "cell_type": "code",
   "execution_count": 3,
   "id": "b04a0193",
   "metadata": {},
   "outputs": [
    {
     "name": "stderr",
     "output_type": "stream",
     "text": [
      "[WDM] - Downloading: 100%|██████████| 6.81M/6.81M [00:00<00:00, 49.7MB/s]\n"
     ]
    },
    {
     "ename": "NoSuchElementException",
     "evalue": "Message: no such element: Unable to locate element: {\"method\":\"css selector\",\"selector\":\"a.nav.shop\"}\n  (Session info: chrome=113.0.5672.127)\nStacktrace:\nBacktrace:\n\tGetHandleVerifier [0x005DDCE3+50899]\n\t(No symbol) [0x0056E111]\n\t(No symbol) [0x00475588]\n\t(No symbol) [0x004A08F9]\n\t(No symbol) [0x004A0AFB]\n\t(No symbol) [0x004CF902]\n\t(No symbol) [0x004BB944]\n\t(No symbol) [0x004CE01C]\n\t(No symbol) [0x004BB6F6]\n\t(No symbol) [0x00497708]\n\t(No symbol) [0x0049886D]\n\tGetHandleVerifier [0x00843EAE+2566302]\n\tGetHandleVerifier [0x008792B1+2784417]\n\tGetHandleVerifier [0x0087327C+2759788]\n\tGetHandleVerifier [0x00675740+672048]\n\t(No symbol) [0x00578872]\n\t(No symbol) [0x005741C8]\n\t(No symbol) [0x005742AB]\n\t(No symbol) [0x005671B7]\n\tBaseThreadInitThunk [0x773CFA29+25]\n\tRtlGetAppContainerNamedObjectPath [0x776F7A9E+286]\n\tRtlGetAppContainerNamedObjectPath [0x776F7A6E+238]\n",
     "output_type": "error",
     "traceback": [
      "\u001b[1;31m---------------------------------------------------------------------------\u001b[0m",
      "\u001b[1;31mNoSuchElementException\u001b[0m                    Traceback (most recent call last)",
      "Cell \u001b[1;32mIn[3], line 15\u001b[0m\n\u001b[0;32m     11\u001b[0m driver\u001b[39m.\u001b[39mimplicitly_wait(\u001b[39m2\u001b[39m)\n\u001b[0;32m     14\u001b[0m \u001b[39m# 쇼핑 메뉴 클릭\u001b[39;00m\n\u001b[1;32m---> 15\u001b[0m driver\u001b[39m.\u001b[39;49mfind_element(By\u001b[39m.\u001b[39;49mCSS_SELECTOR, \u001b[39m'\u001b[39;49m\u001b[39ma.nav.shop\u001b[39;49m\u001b[39m'\u001b[39;49m)\u001b[39m.\u001b[39mclick()\n\u001b[0;32m     17\u001b[0m \u001b[39m# 검색창 클릭\u001b[39;00m\n\u001b[0;32m     18\u001b[0m search \u001b[39m=\u001b[39m driver\u001b[39m.\u001b[39mfind_element(By\u001b[39m.\u001b[39mCSS_SELECTOR, \u001b[39m'\u001b[39m\u001b[39minput._searchInput_search_text_3CUDs\u001b[39m\u001b[39m'\u001b[39m)\n",
      "File \u001b[1;32mc:\\Users\\woori\\anaconda3\\lib\\site-packages\\selenium\\webdriver\\remote\\webdriver.py:831\u001b[0m, in \u001b[0;36mWebDriver.find_element\u001b[1;34m(self, by, value)\u001b[0m\n\u001b[0;32m    828\u001b[0m     by \u001b[39m=\u001b[39m By\u001b[39m.\u001b[39mCSS_SELECTOR\n\u001b[0;32m    829\u001b[0m     value \u001b[39m=\u001b[39m \u001b[39mf\u001b[39m\u001b[39m'\u001b[39m\u001b[39m[name=\u001b[39m\u001b[39m\"\u001b[39m\u001b[39m{\u001b[39;00mvalue\u001b[39m}\u001b[39;00m\u001b[39m\"\u001b[39m\u001b[39m]\u001b[39m\u001b[39m'\u001b[39m\n\u001b[1;32m--> 831\u001b[0m \u001b[39mreturn\u001b[39;00m \u001b[39mself\u001b[39;49m\u001b[39m.\u001b[39;49mexecute(Command\u001b[39m.\u001b[39;49mFIND_ELEMENT, {\u001b[39m\"\u001b[39;49m\u001b[39musing\u001b[39;49m\u001b[39m\"\u001b[39;49m: by, \u001b[39m\"\u001b[39;49m\u001b[39mvalue\u001b[39;49m\u001b[39m\"\u001b[39;49m: value})[\u001b[39m\"\u001b[39m\u001b[39mvalue\u001b[39m\u001b[39m\"\u001b[39m]\n",
      "File \u001b[1;32mc:\\Users\\woori\\anaconda3\\lib\\site-packages\\selenium\\webdriver\\remote\\webdriver.py:440\u001b[0m, in \u001b[0;36mWebDriver.execute\u001b[1;34m(self, driver_command, params)\u001b[0m\n\u001b[0;32m    438\u001b[0m response \u001b[39m=\u001b[39m \u001b[39mself\u001b[39m\u001b[39m.\u001b[39mcommand_executor\u001b[39m.\u001b[39mexecute(driver_command, params)\n\u001b[0;32m    439\u001b[0m \u001b[39mif\u001b[39;00m response:\n\u001b[1;32m--> 440\u001b[0m     \u001b[39mself\u001b[39;49m\u001b[39m.\u001b[39;49merror_handler\u001b[39m.\u001b[39;49mcheck_response(response)\n\u001b[0;32m    441\u001b[0m     response[\u001b[39m\"\u001b[39m\u001b[39mvalue\u001b[39m\u001b[39m\"\u001b[39m] \u001b[39m=\u001b[39m \u001b[39mself\u001b[39m\u001b[39m.\u001b[39m_unwrap_value(response\u001b[39m.\u001b[39mget(\u001b[39m\"\u001b[39m\u001b[39mvalue\u001b[39m\u001b[39m\"\u001b[39m, \u001b[39mNone\u001b[39;00m))\n\u001b[0;32m    442\u001b[0m     \u001b[39mreturn\u001b[39;00m response\n",
      "File \u001b[1;32mc:\\Users\\woori\\anaconda3\\lib\\site-packages\\selenium\\webdriver\\remote\\errorhandler.py:245\u001b[0m, in \u001b[0;36mErrorHandler.check_response\u001b[1;34m(self, response)\u001b[0m\n\u001b[0;32m    243\u001b[0m         alert_text \u001b[39m=\u001b[39m value[\u001b[39m\"\u001b[39m\u001b[39malert\u001b[39m\u001b[39m\"\u001b[39m]\u001b[39m.\u001b[39mget(\u001b[39m\"\u001b[39m\u001b[39mtext\u001b[39m\u001b[39m\"\u001b[39m)\n\u001b[0;32m    244\u001b[0m     \u001b[39mraise\u001b[39;00m exception_class(message, screen, stacktrace, alert_text)  \u001b[39m# type: ignore[call-arg]  # mypy is not smart enough here\u001b[39;00m\n\u001b[1;32m--> 245\u001b[0m \u001b[39mraise\u001b[39;00m exception_class(message, screen, stacktrace)\n",
      "\u001b[1;31mNoSuchElementException\u001b[0m: Message: no such element: Unable to locate element: {\"method\":\"css selector\",\"selector\":\"a.nav.shop\"}\n  (Session info: chrome=113.0.5672.127)\nStacktrace:\nBacktrace:\n\tGetHandleVerifier [0x005DDCE3+50899]\n\t(No symbol) [0x0056E111]\n\t(No symbol) [0x00475588]\n\t(No symbol) [0x004A08F9]\n\t(No symbol) [0x004A0AFB]\n\t(No symbol) [0x004CF902]\n\t(No symbol) [0x004BB944]\n\t(No symbol) [0x004CE01C]\n\t(No symbol) [0x004BB6F6]\n\t(No symbol) [0x00497708]\n\t(No symbol) [0x0049886D]\n\tGetHandleVerifier [0x00843EAE+2566302]\n\tGetHandleVerifier [0x008792B1+2784417]\n\tGetHandleVerifier [0x0087327C+2759788]\n\tGetHandleVerifier [0x00675740+672048]\n\t(No symbol) [0x00578872]\n\t(No symbol) [0x005741C8]\n\t(No symbol) [0x005742AB]\n\t(No symbol) [0x005671B7]\n\tBaseThreadInitThunk [0x773CFA29+25]\n\tRtlGetAppContainerNamedObjectPath [0x776F7A9E+286]\n\tRtlGetAppContainerNamedObjectPath [0x776F7A6E+238]\n"
     ]
    }
   ],
   "source": [
    "import pyautogui\n",
    "# driver 생성\n",
    "\n",
    "service = Service(excutable_path=ChromeDriverManager().install())\n",
    "driver = webdriver.Chrome(service=service)\n",
    "driver.implicitly_wait(5)\n",
    "driver.maximize_window()\n",
    "\n",
    "# 웹사이트 열기\n",
    "driver.get('http://www.naver.com')\n",
    "driver.implicitly_wait(2)\n",
    "\n",
    "\n",
    "# 쇼핑 메뉴 클릭\n",
    "driver.find_element(By.CSS_SELECTOR, 'a.nav.shop').click()\n",
    "\n",
    "# 검색창 클릭\n",
    "search = driver.find_element(By.CSS_SELECTOR, 'input._searchInput_search_text_3CUDs')\n",
    "search.click()\n",
    "time.sleep(2)\n",
    "\n",
    "# 검색어 입력\n",
    "keyword = pyautogui.prompt('검색어를 입력하세요.')\n",
    "lastpage = int(pyautogui.prompt('페이지를 입력하세요.'))\n",
    "\n",
    "search.send_keys(f'{keyword}')\n",
    "search.send_keys(Keys.ENTER)\n",
    "\n",
    "before_h = driver.execute_script('return window.scrollY')\n",
    "\n",
    "for page in range(1, lastpage+1):\n",
    "    url = f'https://search.shopping.naver.com/search/all?where=all&frm=NVSCTAB&query={keyword}&pagingIndex={lastpage}'\n",
    "    header = {'User-Agent': 'Mozilla/5.0 (Windows NT 10.0; Win64; x64) AppleWebKit/537.36 (KHTML, like Gecko) Chrome/106.0.0.0 Safari/537.36','Cookie': 'GSP=A=7_cV4w:CPTS=1654785473:LM=1654785473:S=n9a7P7syvEx3nONo; NID=511=MyGhFfwN2Y_7VS3Uf5iH34nuwysQS2BKgP5rIg3unnXniEC0D96W480QTrgX5u0ZpK85OrRfTt4-qvX_gcM11bpdbxPN0ApykvA3t_PBg14yAx0QrRhvVIPuwoV-FAoojLAnDzEetxw2yS2bziMHclZ6-wJg_34G6O5r4to4uJU'} \n",
    "    res = requests.get(url, headers = header)\n",
    "    soup = bs(res.text, 'html.parser')\n",
    "    \n",
    "    while True:\n",
    "        # 맨 아래로 스크롤 내림\n",
    "        driver.find_element(By.CSS_SELECTOR, 'body').send_keys(Keys.END)\n",
    "\n",
    "        # 로딩시간\n",
    "        time.sleep(1)\n",
    "        after_h = driver.execute_script('return window.scrollY')\n",
    "        print(after_h)\n",
    "    #     break\n",
    "        if before_h == after_h:\n",
    "            break\n",
    "        before_h = after_h\n",
    "\n",
    "    # 상품정보\n",
    "\n",
    "        items = driver.find_elements(By.CSS_SELECTOR, 'div.basicList_info_area__TWvzp')\n",
    "        # print(len(item))\n",
    "\n",
    "        for item in items:\n",
    "            name = item.find_element(By.CSS_SELECTOR, '.basicList_title__VfX3c').text\n",
    "            price = item.find_element(By.CSS_SELECTOR, '.price_num__S2p_v').text\n",
    "            link = item.find_element(By.CSS_SELECTOR, '.basicList_title__VfX3c>a').get_attribute('href')\n",
    "\n",
    "           # print(name, ':', price, ':', link)"
   ]
  },
  {
   "cell_type": "code",
   "execution_count": null,
   "id": "9629b85f",
   "metadata": {},
   "outputs": [],
   "source": []
  },
  {
   "cell_type": "code",
   "execution_count": null,
   "id": "04dfe497",
   "metadata": {},
   "outputs": [],
   "source": []
  },
  {
   "cell_type": "code",
   "execution_count": null,
   "id": "a87e593e",
   "metadata": {},
   "outputs": [],
   "source": []
  },
  {
   "cell_type": "code",
   "execution_count": null,
   "id": "e6163260",
   "metadata": {},
   "outputs": [],
   "source": []
  },
  {
   "cell_type": "code",
   "execution_count": null,
   "id": "ed1b43a9",
   "metadata": {},
   "outputs": [],
   "source": []
  },
  {
   "cell_type": "code",
   "execution_count": null,
   "id": "6ba0e524",
   "metadata": {},
   "outputs": [],
   "source": []
  },
  {
   "cell_type": "code",
   "execution_count": null,
   "id": "c95d51ab",
   "metadata": {},
   "outputs": [],
   "source": []
  },
  {
   "cell_type": "code",
   "execution_count": null,
   "id": "854bec27",
   "metadata": {},
   "outputs": [],
   "source": []
  },
  {
   "cell_type": "code",
   "execution_count": null,
   "id": "42860578",
   "metadata": {},
   "outputs": [],
   "source": []
  },
  {
   "cell_type": "code",
   "execution_count": null,
   "id": "825361d5",
   "metadata": {},
   "outputs": [],
   "source": []
  },
  {
   "cell_type": "code",
   "execution_count": null,
   "id": "44dfccfc",
   "metadata": {},
   "outputs": [],
   "source": []
  }
 ],
 "metadata": {
  "kernelspec": {
   "display_name": "Python 3 (ipykernel)",
   "language": "python",
   "name": "python3"
  },
  "language_info": {
   "codemirror_mode": {
    "name": "ipython",
    "version": 3
   },
   "file_extension": ".py",
   "mimetype": "text/x-python",
   "name": "python",
   "nbconvert_exporter": "python",
   "pygments_lexer": "ipython3",
   "version": "3.9.16"
  }
 },
 "nbformat": 4,
 "nbformat_minor": 5
}
