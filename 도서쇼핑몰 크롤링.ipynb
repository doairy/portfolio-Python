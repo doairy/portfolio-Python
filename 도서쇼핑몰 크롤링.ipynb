{
 "cells": [
  {
   "cell_type": "code",
   "execution_count": 2,
   "id": "7d2be16d",
   "metadata": {},
   "outputs": [],
   "source": [
    "from selenium import webdriver\n",
    "from selenium.webdriver.chrome.service import Service\n",
    "from selenium.webdriver.chrome.options import Options\n",
    "from webdriver_manager.chrome import ChromeDriverManager\n",
    "from selenium.webdriver.common.by import By\n",
    "from selenium.webdriver.common.keys import Keys\n",
    "import time\n",
    "import requests\n",
    "from bs4 import BeautifulSoup as bs\n",
    "import csv\n",
    "import pyautogui"
   ]
  },
  {
   "cell_type": "code",
   "execution_count": 10,
   "id": "a339d700",
   "metadata": {},
   "outputs": [
    {
     "name": "stdout",
     "output_type": "stream",
     "text": [
      "Requirement already satisfied: selenium in c:\\users\\woori\\anaconda3\\lib\\site-packages (4.8.3)\n",
      "Requirement already satisfied: certifi>=2021.10.8 in c:\\users\\woori\\anaconda3\\lib\\site-packages (from selenium) (2022.12.7)\n",
      "Requirement already satisfied: urllib3[socks]~=1.26 in c:\\users\\woori\\anaconda3\\lib\\site-packages (from selenium) (1.26.14)\n",
      "Requirement already satisfied: trio~=0.17 in c:\\users\\woori\\anaconda3\\lib\\site-packages (from selenium) (0.22.0)\n",
      "Requirement already satisfied: trio-websocket~=0.9 in c:\\users\\woori\\anaconda3\\lib\\site-packages (from selenium) (0.10.2)\n",
      "Requirement already satisfied: idna in c:\\users\\woori\\anaconda3\\lib\\site-packages (from trio~=0.17->selenium) (3.4)\n",
      "Requirement already satisfied: cffi>=1.14 in c:\\users\\woori\\anaconda3\\lib\\site-packages (from trio~=0.17->selenium) (1.15.1)\n",
      "Requirement already satisfied: sortedcontainers in c:\\users\\woori\\anaconda3\\lib\\site-packages (from trio~=0.17->selenium) (2.4.0)\n",
      "Requirement already satisfied: outcome in c:\\users\\woori\\anaconda3\\lib\\site-packages (from trio~=0.17->selenium) (1.2.0)\n",
      "Requirement already satisfied: exceptiongroup>=1.0.0rc9 in c:\\users\\woori\\anaconda3\\lib\\site-packages (from trio~=0.17->selenium) (1.1.1)\n",
      "Requirement already satisfied: async-generator>=1.9 in c:\\users\\woori\\anaconda3\\lib\\site-packages (from trio~=0.17->selenium) (1.10)\n",
      "Requirement already satisfied: sniffio in c:\\users\\woori\\anaconda3\\lib\\site-packages (from trio~=0.17->selenium) (1.2.0)\n",
      "Requirement already satisfied: attrs>=19.2.0 in c:\\users\\woori\\anaconda3\\lib\\site-packages (from trio~=0.17->selenium) (22.1.0)\n",
      "Requirement already satisfied: wsproto>=0.14 in c:\\users\\woori\\anaconda3\\lib\\site-packages (from trio-websocket~=0.9->selenium) (1.2.0)\n",
      "Requirement already satisfied: PySocks!=1.5.7,<2.0,>=1.5.6 in c:\\users\\woori\\anaconda3\\lib\\site-packages (from urllib3[socks]~=1.26->selenium) (1.7.1)\n",
      "Requirement already satisfied: pycparser in c:\\users\\woori\\anaconda3\\lib\\site-packages (from cffi>=1.14->trio~=0.17->selenium) (2.21)\n",
      "Requirement already satisfied: h11<1,>=0.9.0 in c:\\users\\woori\\anaconda3\\lib\\site-packages (from wsproto>=0.14->trio-websocket~=0.9->selenium) (0.14.0)\n",
      "Note: you may need to restart the kernel to use updated packages.\n"
     ]
    }
   ],
   "source": [
    "pip install selenium"
   ]
  },
  {
   "cell_type": "code",
   "execution_count": 4,
   "id": "c95d51ab",
   "metadata": {},
   "outputs": [
    {
     "name": "stderr",
     "output_type": "stream",
     "text": [
      "[WDM] - Downloading: 100%|████████████████████████████████████████████████████████| 6.80M/6.80M [00:00<00:00, 57.5MB/s]\n"
     ]
    },
    {
     "ename": "TypeError",
     "evalue": "int() argument must be a string, a bytes-like object or a number, not 'NoneType'",
     "output_type": "error",
     "traceback": [
      "\u001b[1;31m---------------------------------------------------------------------------\u001b[0m",
      "\u001b[1;31mTypeError\u001b[0m                                 Traceback (most recent call last)",
      "Cell \u001b[1;32mIn[4], line 32\u001b[0m\n\u001b[0;32m     28\u001b[0m search\u001b[38;5;241m.\u001b[39msend_keys(Keys\u001b[38;5;241m.\u001b[39mENTER)\n\u001b[0;32m     30\u001b[0m \u001b[38;5;66;03m# 입력받은 페이지만큼 for문 돌리기\u001b[39;00m\n\u001b[1;32m---> 32\u001b[0m \u001b[38;5;28;01mfor\u001b[39;00m i \u001b[38;5;129;01min\u001b[39;00m \u001b[38;5;28mrange\u001b[39m(\u001b[38;5;241m1\u001b[39m, \u001b[38;5;28;43mint\u001b[39;49m\u001b[43m(\u001b[49m\u001b[43mlastpage\u001b[49m\u001b[43m)\u001b[49m\u001b[38;5;241m+\u001b[39m\u001b[38;5;241m1\u001b[39m):\n\u001b[0;32m     33\u001b[0m     \u001b[38;5;28mprint\u001b[39m(\u001b[38;5;124mf\u001b[39m\u001b[38;5;124m'\u001b[39m\u001b[38;5;124m===== \u001b[39m\u001b[38;5;132;01m{\u001b[39;00mi\u001b[38;5;132;01m}\u001b[39;00m\u001b[38;5;124m페이지=====\u001b[39m\u001b[38;5;124m'\u001b[39m)\n\u001b[0;32m     34\u001b[0m     driver\u001b[38;5;241m.\u001b[39mimplicitly_wait(\u001b[38;5;241m4\u001b[39m)\n",
      "\u001b[1;31mTypeError\u001b[0m: int() argument must be a string, a bytes-like object or a number, not 'NoneType'"
     ]
    }
   ],
   "source": [
    "import pyautogui\n",
    "import openpyxl\n",
    "\n",
    "wb = openpyxl.Workbook()\n",
    "ws = wb.active\n",
    "ws.append(['도서명','가격','링크'])\n",
    "\n",
    "service = Service(excutable_path=ChromeDriverManager().install())\n",
    "driver = webdriver.Chrome(service=service)\n",
    "driver.implicitly_wait(5)\n",
    "driver.maximize_window()\n",
    "\n",
    "# 웹사이트 열기 (yes 24로 이동)\n",
    "driver.get('http://www.yes24.com/main/default.aspx')\n",
    "driver.implicitly_wait(2)\n",
    "time.sleep(2)\n",
    "\n",
    "# 도서 검색창 클릭\n",
    "search = driver.find_element(By.CSS_SELECTOR, '#query')\n",
    "search.click()\n",
    "\n",
    "# 검색어 입력\n",
    "keyword = pyautogui.prompt('검색어를 입력하세요.')\n",
    "lastpage = pyautogui.prompt('페이지를 입력하세요.')\n",
    "\n",
    "# 검색어 전송, 엔터키 누르기\n",
    "search.send_keys(f'{keyword}')\n",
    "search.send_keys(Keys.ENTER)\n",
    "\n",
    "# 입력받은 페이지만큼 for문 돌리기\n",
    "\n",
    "for i in range(1, int(lastpage)+1):\n",
    "    print(f'===== {i}페이지=====')\n",
    "    driver.implicitly_wait(4)\n",
    "    \n",
    "    url = f'http://www.yes24.com/Product/Search?domain=ALL&query={keyword}&page={i}'\n",
    "    driver.get(url)\n",
    "    time.sleep(2)\n",
    "        \n",
    "    # 영역 잡기    \n",
    "    items = driver.find_elements(By.CSS_SELECTOR, 'div.itemUnit')\n",
    "    \n",
    "    \n",
    "    # 2페이지부터 오류가 발생하기 때문에 try문으로 정리\n",
    "    try:\n",
    "        for item in items:\n",
    "            j = item.find_element(By.CSS_SELECTOR, 'span.gd_res').text\n",
    "            # 영역에 중고도서까지 포함되어 있기 때문에\n",
    "            # 그냥 도서인것만 가져오기\n",
    "            if '중고도서' not in j:\n",
    "                    name = item.find_element(By.CSS_SELECTOR, 'a.gd_name').text\n",
    "                    price = item.find_element(By.CSS_SELECTOR, 'div.info_row.info_price > strong > em').text\n",
    "                    link = item.find_element(By.CSS_SELECTOR, 'a.gd_name').get_attribute('href')\n",
    "                    \n",
    "                    print(f'도서명 : {name} \\n 가격 : {price}원 \\n {link}')\n",
    "                    ws.append([name, price, link])\n",
    "    except:\n",
    "        pass\n",
    "\n",
    "# 엑셀 저장\n",
    "wb.save(f'./data/crawling/{keyword}.xlsx')\n",
    "pyautogui.alert('완료!')"
   ]
  },
  {
   "cell_type": "code",
   "execution_count": null,
   "id": "42860578",
   "metadata": {},
   "outputs": [],
   "source": []
  },
  {
   "cell_type": "code",
   "execution_count": null,
   "id": "825361d5",
   "metadata": {},
   "outputs": [],
   "source": []
  },
  {
   "cell_type": "code",
   "execution_count": null,
   "id": "44dfccfc",
   "metadata": {},
   "outputs": [],
   "source": []
  }
 ],
 "metadata": {
  "kernelspec": {
   "display_name": "Python 3 (ipykernel)",
   "language": "python",
   "name": "python3"
  },
  "language_info": {
   "codemirror_mode": {
    "name": "ipython",
    "version": 3
   },
   "file_extension": ".py",
   "mimetype": "text/x-python",
   "name": "python",
   "nbconvert_exporter": "python",
   "pygments_lexer": "ipython3",
   "version": "3.9.16"
  }
 },
 "nbformat": 4,
 "nbformat_minor": 5
}
